{
  "cells": [
    {
      "cell_type": "code",
      "execution_count": null,
      "metadata": {
        "colab": {
          "base_uri": "https://localhost:8080/"
        },
        "id": "GNti7kt_0Tnv",
        "outputId": "cfbed6b8-7c15-40a3-94af-3b8da48594bb"
      },
      "outputs": [
        {
          "output_type": "stream",
          "name": "stdout",
          "text": [
            "Mounted at /content/drive\n"
          ]
        }
      ],
      "source": [
        "from google.colab import drive\n",
        "drive.mount('/content/drive')"
      ]
    },
    {
      "cell_type": "markdown",
      "source": [
        "# Import Library"
      ],
      "metadata": {
        "id": "nPRb0hAAp-xO"
      }
    },
    {
      "cell_type": "code",
      "execution_count": null,
      "metadata": {
        "id": "ldR9Ww5V5Vpr"
      },
      "outputs": [],
      "source": [
        "import pandas as pd\n",
        "import numpy as np\n",
        "import tensorflow as tf\n",
        "import matplotlib.pyplot as plt\n",
        "import keras\n",
        "from sklearn.model_selection import train_test_split\n",
        "from sklearn.preprocessing import OneHotEncoder\n",
        "from keras.models import Sequential\n",
        "from keras.layers import Conv2D, MaxPool2D, AveragePooling2D, Input, BatchNormalization, MaxPooling2D, Activation, Flatten, Dense, Dropout\n",
        "from keras.models import Model\n",
        "from tensorflow.keras.optimizers import Adam\n",
        "from sklearn.preprocessing import OneHotEncoder\n",
        "from sklearn.metrics import classification_report\n",
        "from imblearn.over_sampling import SMOTE\n",
        "from tensorflow.keras.preprocessing.image import ImageDataGenerator\n",
        "from tensorflow.keras.callbacks import EarlyStopping, ModelCheckpoint, ReduceLROnPlateau\n",
        "from keras.preprocessing import image\n",
        "import scipy\n",
        "import os\n",
        "import cv2"
      ]
    },
    {
      "cell_type": "markdown",
      "source": [
        "# Load Data\n",
        "용량 문제로 github 업로드 불가, 데이터 다운로드 필요\n",
        "\n",
        "아래 링크 접속하여 fer2013.csv 다운로드\n",
        "\n",
        "[fer2013.csv](https://www.kaggle.com/datasets/nicolejyt/facialexpressionrecognition)"
      ],
      "metadata": {
        "id": "o8_loBQ8qAcS"
      }
    },
    {
      "cell_type": "code",
      "execution_count": null,
      "metadata": {
        "id": "3ARfvmmL0a6U"
      },
      "outputs": [],
      "source": [
        "PATH = '/content/drive/MyDrive/졸프/ML/data'"
      ]
    },
    {
      "cell_type": "code",
      "execution_count": null,
      "metadata": {
        "id": "NmaWTzSsyuaG"
      },
      "outputs": [],
      "source": [
        "df = pd.read_csv(PATH+'fer2013.csv')"
      ]
    },
    {
      "cell_type": "markdown",
      "source": [
        "# Preprocess Data"
      ],
      "metadata": {
        "id": "XFG782HEqQAT"
      }
    },
    {
      "cell_type": "code",
      "execution_count": null,
      "metadata": {
        "id": "4Je3FZ985aZe"
      },
      "outputs": [],
      "source": [
        "def preprocess_pixels(pixel_data):\n",
        "    images = []\n",
        "    for i in range(len(pixel_data)):\n",
        "        img = np.fromstring(pixel_data[i], dtype='int', sep=' ')\n",
        "        img = img.reshape(48,48,1)\n",
        "        images.append(img)\n",
        "\n",
        "    X = np.array(images)\n",
        "\n",
        "    return X"
      ]
    },
    {
      "cell_type": "code",
      "execution_count": null,
      "metadata": {
        "id": "RrvCMYmR5Zc2"
      },
      "outputs": [],
      "source": [
        "X = preprocess_pixels(df['pixels'])\n",
        "label_data = df['emotion']"
      ]
    },
    {
      "cell_type": "code",
      "execution_count": null,
      "metadata": {
        "id": "cUKl8flY5iG3"
      },
      "outputs": [],
      "source": [
        "from sklearn.utils import shuffle\n",
        "\n",
        "X = preprocess_pixels(df['pixels'])\n",
        "X_flat = X.reshape(X.shape[0], -1)\n",
        "X_flat, label_data = shuffle(X_flat, label_data)\n",
        "\n",
        "smote = SMOTE(random_state=0)\n",
        "X_flat_over, Y_over = smote.fit_resample(X_flat, label_data)\n",
        "\n",
        "X_over = X_flat_over.reshape(-1, 48, 48, 1)\n",
        "X = X_over\n",
        "Y = Y_over\n",
        "\n",
        "X_train, X_test, Y_train, Y_test = train_test_split(X, Y, stratify=Y, test_size=0.2, random_state=45)\n",
        "X_train, X_val, Y_train, Y_val = train_test_split(X_train, Y_train, stratify=Y_train, test_size=0.2, random_state=45)"
      ]
    },
    {
      "cell_type": "code",
      "execution_count": null,
      "metadata": {
        "id": "hX1R-_EP5kfk"
      },
      "outputs": [],
      "source": [
        "X_aug = ImageDataGenerator(\n",
        "    featurewise_center=False,\n",
        "    featurewise_std_normalization=False,\n",
        "    rotation_range=10,\n",
        "    width_shift_range=0.1,\n",
        "    height_shift_range=0.1,\n",
        "    zoom_range=.1,\n",
        "    horizontal_flip=True)\n",
        "\n",
        "X_aug.fit(X_train)"
      ]
    },
    {
      "cell_type": "markdown",
      "source": [
        "# Data Encoding"
      ],
      "metadata": {
        "id": "dWsaCR9fqYS3"
      }
    },
    {
      "cell_type": "code",
      "execution_count": null,
      "metadata": {
        "id": "nVArWT4h5o0r"
      },
      "outputs": [],
      "source": [
        "encoder = OneHotEncoder()\n",
        "encoder.fit(Y_train.values.reshape(-1, 1))\n",
        "Y_train = encoder.transform(Y_train.values.reshape(-1, 1)).toarray()\n",
        "Y_test = encoder.transform(Y_test.values.reshape(-1, 1)).toarray()\n",
        "Y_val = encoder.transform(Y_val.values.reshape(-1, 1)).toarray()"
      ]
    },
    {
      "cell_type": "code",
      "execution_count": null,
      "metadata": {
        "id": "_6fko5_L5rg8"
      },
      "outputs": [],
      "source": [
        "es = EarlyStopping(patience=60)\n",
        "mc = ModelCheckpoint(PATH, monitor='val_loss', save_best_only=True)\n",
        "rlr = ReduceLROnPlateau(factor=0.1, patience=5)"
      ]
    },
    {
      "cell_type": "markdown",
      "source": [
        "# Make CNN model & Training"
      ],
      "metadata": {
        "id": "iPCOxkMLqaWN"
      }
    },
    {
      "cell_type": "code",
      "execution_count": null,
      "metadata": {
        "id": "Ikalj3CK5Lig"
      },
      "outputs": [],
      "source": [
        "model = Sequential()\n",
        "\n",
        "model.add(Conv2D(32, kernel_size=(3,3), strides=(1,1), padding='same', input_shape=(48,48,1)))\n",
        "model.add(BatchNormalization(axis=3))\n",
        "model.add(Activation('relu'))\n",
        "model.add(MaxPooling2D((2,2)))\n",
        "\n",
        "model.add(Conv2D(64, (3,3), strides=(1,1), padding='same', kernel_regularizer=tf.keras.regularizers.l2(0.0005)))\n",
        "model.add(BatchNormalization(axis=3))\n",
        "model.add(Activation('relu'))\n",
        "model.add(MaxPooling2D((2,2)))\n",
        "\n",
        "model.add(Conv2D(64, (3,3), strides=(1,1), padding='same', kernel_regularizer=tf.keras.regularizers.l2(0.0005)))\n",
        "model.add(BatchNormalization(axis=3))\n",
        "model.add(Activation('relu'))\n",
        "model.add(MaxPooling2D((2,2)))\n",
        "\n",
        "model.add(Conv2D(128, (3,3), strides=(1,1), padding='same', kernel_regularizer=tf.keras.regularizers.l2(0.0005)))\n",
        "model.add(BatchNormalization(axis=3))\n",
        "model.add(Activation('relu'))\n",
        "model.add(MaxPooling2D((2,2)))\n",
        "\n",
        "model.add(Conv2D(128, (3,3), strides=(1,1), padding='same', kernel_regularizer=tf.keras.regularizers.l2(0.0005)))\n",
        "model.add(BatchNormalization(axis=3))\n",
        "model.add(Activation('relu'))\n",
        "model.add(MaxPooling2D((2,2)))\n",
        "model.add(Flatten())\n",
        "\n",
        "model.add(Dense(256))\n",
        "model.add(BatchNormalization())\n",
        "model.add(Activation('relu'))\n",
        "model.add(Dropout(0.25))\n",
        "model.add(Dense(7, activation='softmax'))\n",
        "\n",
        "adam = Adam(lr=0.0001)\n",
        "model.compile(optimizer=adam, loss='categorical_crossentropy', metrics=['accuracy'])\n"
      ]
    },
    {
      "cell_type": "code",
      "execution_count": null,
      "metadata": {
        "colab": {
          "base_uri": "https://localhost:8080/"
        },
        "id": "CgAkqfzM5Tkz",
        "outputId": "78582faa-0307-4ce4-ae74-f20f292c0242"
      },
      "outputs": [
        {
          "output_type": "stream",
          "name": "stdout",
          "text": [
            "Epoch 1/100\n",
            "1259/1259 [==============================] - 41s 25ms/step - loss: 1.8299 - accuracy: 0.3591 - val_loss: 1.8496 - val_accuracy: 0.3534 - lr: 0.0010\n",
            "Epoch 2/100\n",
            "1259/1259 [==============================] - 30s 24ms/step - loss: 1.5203 - accuracy: 0.4892 - val_loss: 1.7425 - val_accuracy: 0.3603 - lr: 0.0010\n",
            "Epoch 3/100\n",
            "1259/1259 [==============================] - 29s 23ms/step - loss: 1.4285 - accuracy: 0.5231 - val_loss: 1.4926 - val_accuracy: 0.4940 - lr: 0.0010\n",
            "Epoch 4/100\n",
            "1259/1259 [==============================] - 27s 22ms/step - loss: 1.3853 - accuracy: 0.5454 - val_loss: 1.4995 - val_accuracy: 0.5281 - lr: 0.0010\n",
            "Epoch 5/100\n",
            "1259/1259 [==============================] - 29s 23ms/step - loss: 1.3656 - accuracy: 0.5550 - val_loss: 1.3427 - val_accuracy: 0.5715 - lr: 0.0010\n",
            "Epoch 6/100\n",
            "1259/1259 [==============================] - 30s 24ms/step - loss: 1.3314 - accuracy: 0.5696 - val_loss: 1.2854 - val_accuracy: 0.5897 - lr: 0.0010\n",
            "Epoch 7/100\n",
            "1259/1259 [==============================] - 37s 30ms/step - loss: 1.3213 - accuracy: 0.5785 - val_loss: 1.4707 - val_accuracy: 0.5323 - lr: 0.0010\n",
            "Epoch 8/100\n",
            "1259/1259 [==============================] - 25s 20ms/step - loss: 1.3123 - accuracy: 0.5827 - val_loss: 1.3350 - val_accuracy: 0.5799 - lr: 0.0010\n",
            "Epoch 9/100\n",
            "1259/1259 [==============================] - 29s 23ms/step - loss: 1.2954 - accuracy: 0.5909 - val_loss: 1.2701 - val_accuracy: 0.5991 - lr: 0.0010\n",
            "Epoch 10/100\n",
            "1259/1259 [==============================] - 27s 21ms/step - loss: 1.2894 - accuracy: 0.5929 - val_loss: 1.2941 - val_accuracy: 0.5959 - lr: 0.0010\n",
            "Epoch 11/100\n",
            "1259/1259 [==============================] - 27s 22ms/step - loss: 1.2793 - accuracy: 0.5999 - val_loss: 1.2747 - val_accuracy: 0.5954 - lr: 0.0010\n",
            "Epoch 12/100\n",
            "1259/1259 [==============================] - 27s 22ms/step - loss: 1.2725 - accuracy: 0.6028 - val_loss: 1.3829 - val_accuracy: 0.5577 - lr: 0.0010\n",
            "Epoch 13/100\n",
            "1259/1259 [==============================] - 27s 21ms/step - loss: 1.2712 - accuracy: 0.6032 - val_loss: 1.4386 - val_accuracy: 0.5406 - lr: 0.0010\n",
            "Epoch 14/100\n",
            "1259/1259 [==============================] - 27s 21ms/step - loss: 1.2551 - accuracy: 0.6086 - val_loss: 1.4630 - val_accuracy: 0.5383 - lr: 0.0010\n",
            "Epoch 15/100\n",
            "1259/1259 [==============================] - 29s 23ms/step - loss: 1.1612 - accuracy: 0.6426 - val_loss: 1.1083 - val_accuracy: 0.6603 - lr: 1.0000e-04\n",
            "Epoch 16/100\n",
            "1259/1259 [==============================] - 29s 23ms/step - loss: 1.1109 - accuracy: 0.6599 - val_loss: 1.0786 - val_accuracy: 0.6679 - lr: 1.0000e-04\n",
            "Epoch 17/100\n",
            "1259/1259 [==============================] - 30s 24ms/step - loss: 1.0804 - accuracy: 0.6685 - val_loss: 1.0575 - val_accuracy: 0.6748 - lr: 1.0000e-04\n",
            "Epoch 18/100\n",
            "1259/1259 [==============================] - 29s 23ms/step - loss: 1.0679 - accuracy: 0.6698 - val_loss: 1.0666 - val_accuracy: 0.6642 - lr: 1.0000e-04\n",
            "Epoch 19/100\n",
            "1259/1259 [==============================] - 31s 25ms/step - loss: 1.0435 - accuracy: 0.6734 - val_loss: 1.0355 - val_accuracy: 0.6782 - lr: 1.0000e-04\n",
            "Epoch 20/100\n",
            "1259/1259 [==============================] - 29s 23ms/step - loss: 1.0287 - accuracy: 0.6768 - val_loss: 1.0517 - val_accuracy: 0.6677 - lr: 1.0000e-04\n",
            "Epoch 21/100\n",
            "1259/1259 [==============================] - 30s 24ms/step - loss: 1.0142 - accuracy: 0.6833 - val_loss: 1.0206 - val_accuracy: 0.6784 - lr: 1.0000e-04\n",
            "Epoch 22/100\n",
            "1259/1259 [==============================] - 29s 23ms/step - loss: 1.0054 - accuracy: 0.6852 - val_loss: 0.9944 - val_accuracy: 0.6869 - lr: 1.0000e-04\n",
            "Epoch 23/100\n",
            "1259/1259 [==============================] - 26s 21ms/step - loss: 0.9940 - accuracy: 0.6857 - val_loss: 1.0119 - val_accuracy: 0.6814 - lr: 1.0000e-04\n",
            "Epoch 24/100\n",
            "1259/1259 [==============================] - 26s 21ms/step - loss: 0.9815 - accuracy: 0.6892 - val_loss: 1.0010 - val_accuracy: 0.6817 - lr: 1.0000e-04\n",
            "Epoch 25/100\n",
            "1259/1259 [==============================] - 30s 24ms/step - loss: 0.9716 - accuracy: 0.6935 - val_loss: 0.9927 - val_accuracy: 0.6925 - lr: 1.0000e-04\n",
            "Epoch 26/100\n",
            "1259/1259 [==============================] - 29s 23ms/step - loss: 0.9630 - accuracy: 0.6949 - val_loss: 0.9708 - val_accuracy: 0.6945 - lr: 1.0000e-04\n",
            "Epoch 27/100\n",
            "1259/1259 [==============================] - 27s 21ms/step - loss: 0.9551 - accuracy: 0.6970 - val_loss: 0.9835 - val_accuracy: 0.6873 - lr: 1.0000e-04\n",
            "Epoch 28/100\n",
            "1259/1259 [==============================] - 29s 23ms/step - loss: 0.9436 - accuracy: 0.7004 - val_loss: 0.9689 - val_accuracy: 0.6900 - lr: 1.0000e-04\n",
            "Epoch 29/100\n",
            "1259/1259 [==============================] - 26s 21ms/step - loss: 0.9304 - accuracy: 0.7024 - val_loss: 0.9734 - val_accuracy: 0.6915 - lr: 1.0000e-04\n",
            "Epoch 30/100\n",
            "1259/1259 [==============================] - 28s 22ms/step - loss: 0.9323 - accuracy: 0.7053 - val_loss: 0.9586 - val_accuracy: 0.6939 - lr: 1.0000e-04\n",
            "Epoch 31/100\n",
            "1259/1259 [==============================] - 26s 20ms/step - loss: 0.9249 - accuracy: 0.7038 - val_loss: 1.0142 - val_accuracy: 0.6740 - lr: 1.0000e-04\n",
            "Epoch 32/100\n",
            "1259/1259 [==============================] - 25s 20ms/step - loss: 0.9170 - accuracy: 0.7077 - val_loss: 0.9715 - val_accuracy: 0.6933 - lr: 1.0000e-04\n",
            "Epoch 33/100\n",
            "1259/1259 [==============================] - 29s 23ms/step - loss: 0.9075 - accuracy: 0.7133 - val_loss: 0.9202 - val_accuracy: 0.7084 - lr: 1.0000e-04\n",
            "Epoch 34/100\n",
            "1259/1259 [==============================] - 27s 22ms/step - loss: 0.9028 - accuracy: 0.7126 - val_loss: 0.9744 - val_accuracy: 0.6847 - lr: 1.0000e-04\n",
            "Epoch 35/100\n",
            "1259/1259 [==============================] - 27s 21ms/step - loss: 0.8983 - accuracy: 0.7144 - val_loss: 0.9810 - val_accuracy: 0.6834 - lr: 1.0000e-04\n",
            "Epoch 36/100\n",
            "1259/1259 [==============================] - 26s 21ms/step - loss: 0.8932 - accuracy: 0.7148 - val_loss: 0.9748 - val_accuracy: 0.6816 - lr: 1.0000e-04\n",
            "Epoch 37/100\n",
            "1259/1259 [==============================] - 25s 20ms/step - loss: 0.8862 - accuracy: 0.7188 - val_loss: 0.9438 - val_accuracy: 0.6971 - lr: 1.0000e-04\n",
            "Epoch 38/100\n",
            "1259/1259 [==============================] - 26s 21ms/step - loss: 0.8828 - accuracy: 0.7189 - val_loss: 0.9469 - val_accuracy: 0.6936 - lr: 1.0000e-04\n",
            "Epoch 39/100\n",
            "1259/1259 [==============================] - 29s 23ms/step - loss: 0.8595 - accuracy: 0.7264 - val_loss: 0.9176 - val_accuracy: 0.7046 - lr: 1.0000e-05\n",
            "Epoch 40/100\n",
            "1259/1259 [==============================] - 29s 23ms/step - loss: 0.8476 - accuracy: 0.7335 - val_loss: 0.9126 - val_accuracy: 0.7071 - lr: 1.0000e-05\n",
            "Epoch 41/100\n",
            "1259/1259 [==============================] - 29s 23ms/step - loss: 0.8507 - accuracy: 0.7295 - val_loss: 0.9057 - val_accuracy: 0.7080 - lr: 1.0000e-05\n",
            "Epoch 42/100\n",
            "1259/1259 [==============================] - 29s 23ms/step - loss: 0.8450 - accuracy: 0.7329 - val_loss: 0.9041 - val_accuracy: 0.7088 - lr: 1.0000e-05\n",
            "Epoch 43/100\n",
            "1259/1259 [==============================] - 29s 23ms/step - loss: 0.8451 - accuracy: 0.7310 - val_loss: 0.9040 - val_accuracy: 0.7076 - lr: 1.0000e-05\n",
            "Epoch 44/100\n",
            "1259/1259 [==============================] - 26s 21ms/step - loss: 0.8383 - accuracy: 0.7341 - val_loss: 0.9076 - val_accuracy: 0.7092 - lr: 1.0000e-05\n",
            "Epoch 45/100\n",
            "1259/1259 [==============================] - 29s 23ms/step - loss: 0.8401 - accuracy: 0.7323 - val_loss: 0.9029 - val_accuracy: 0.7099 - lr: 1.0000e-05\n",
            "Epoch 46/100\n",
            "1259/1259 [==============================] - 26s 21ms/step - loss: 0.8354 - accuracy: 0.7364 - val_loss: 0.9058 - val_accuracy: 0.7071 - lr: 1.0000e-05\n",
            "Epoch 47/100\n",
            "1259/1259 [==============================] - 27s 21ms/step - loss: 0.8391 - accuracy: 0.7336 - val_loss: 0.9043 - val_accuracy: 0.7079 - lr: 1.0000e-05\n",
            "Epoch 48/100\n",
            "1259/1259 [==============================] - 28s 22ms/step - loss: 0.8345 - accuracy: 0.7344 - val_loss: 0.9007 - val_accuracy: 0.7110 - lr: 1.0000e-05\n",
            "Epoch 49/100\n",
            "1259/1259 [==============================] - 25s 20ms/step - loss: 0.8316 - accuracy: 0.7387 - val_loss: 0.9008 - val_accuracy: 0.7096 - lr: 1.0000e-05\n",
            "Epoch 50/100\n",
            "1259/1259 [==============================] - 29s 23ms/step - loss: 0.8311 - accuracy: 0.7370 - val_loss: 0.8982 - val_accuracy: 0.7116 - lr: 1.0000e-05\n",
            "Epoch 51/100\n",
            "1259/1259 [==============================] - 26s 20ms/step - loss: 0.8260 - accuracy: 0.7384 - val_loss: 0.8987 - val_accuracy: 0.7122 - lr: 1.0000e-05\n",
            "Epoch 52/100\n",
            "1259/1259 [==============================] - 25s 19ms/step - loss: 0.8258 - accuracy: 0.7374 - val_loss: 0.8984 - val_accuracy: 0.7130 - lr: 1.0000e-05\n",
            "Epoch 53/100\n",
            "1259/1259 [==============================] - 29s 23ms/step - loss: 0.8188 - accuracy: 0.7424 - val_loss: 0.8978 - val_accuracy: 0.7129 - lr: 1.0000e-05\n",
            "Epoch 54/100\n",
            "1259/1259 [==============================] - 29s 23ms/step - loss: 0.8227 - accuracy: 0.7401 - val_loss: 0.8953 - val_accuracy: 0.7121 - lr: 1.0000e-05\n",
            "Epoch 55/100\n",
            "1259/1259 [==============================] - 26s 21ms/step - loss: 0.8221 - accuracy: 0.7402 - val_loss: 0.9027 - val_accuracy: 0.7106 - lr: 1.0000e-05\n",
            "Epoch 56/100\n",
            "1259/1259 [==============================] - 26s 21ms/step - loss: 0.8190 - accuracy: 0.7397 - val_loss: 0.8990 - val_accuracy: 0.7127 - lr: 1.0000e-05\n",
            "Epoch 57/100\n",
            "1259/1259 [==============================] - 29s 23ms/step - loss: 0.8153 - accuracy: 0.7428 - val_loss: 0.8935 - val_accuracy: 0.7133 - lr: 1.0000e-05\n",
            "Epoch 58/100\n",
            "1259/1259 [==============================] - 26s 21ms/step - loss: 0.8147 - accuracy: 0.7410 - val_loss: 0.8968 - val_accuracy: 0.7128 - lr: 1.0000e-05\n",
            "Epoch 59/100\n",
            "1259/1259 [==============================] - 26s 21ms/step - loss: 0.8136 - accuracy: 0.7417 - val_loss: 0.8959 - val_accuracy: 0.7121 - lr: 1.0000e-05\n",
            "Epoch 60/100\n",
            "1259/1259 [==============================] - 24s 19ms/step - loss: 0.8168 - accuracy: 0.7447 - val_loss: 0.8942 - val_accuracy: 0.7139 - lr: 1.0000e-05\n",
            "Epoch 61/100\n",
            "1259/1259 [==============================] - 29s 23ms/step - loss: 0.8123 - accuracy: 0.7430 - val_loss: 0.8914 - val_accuracy: 0.7141 - lr: 1.0000e-05\n",
            "Epoch 62/100\n",
            "1259/1259 [==============================] - 28s 23ms/step - loss: 0.8097 - accuracy: 0.7432 - val_loss: 0.8894 - val_accuracy: 0.7157 - lr: 1.0000e-05\n",
            "Epoch 63/100\n",
            "1259/1259 [==============================] - 26s 20ms/step - loss: 0.8102 - accuracy: 0.7420 - val_loss: 0.8984 - val_accuracy: 0.7115 - lr: 1.0000e-05\n",
            "Epoch 64/100\n",
            "1259/1259 [==============================] - 26s 21ms/step - loss: 0.8115 - accuracy: 0.7411 - val_loss: 0.8938 - val_accuracy: 0.7136 - lr: 1.0000e-05\n",
            "Epoch 65/100\n",
            "1259/1259 [==============================] - 24s 19ms/step - loss: 0.8083 - accuracy: 0.7458 - val_loss: 0.8947 - val_accuracy: 0.7137 - lr: 1.0000e-05\n",
            "Epoch 66/100\n",
            "1259/1259 [==============================] - 29s 23ms/step - loss: 0.8114 - accuracy: 0.7428 - val_loss: 0.8872 - val_accuracy: 0.7160 - lr: 1.0000e-05\n",
            "Epoch 67/100\n",
            "1259/1259 [==============================] - 26s 21ms/step - loss: 0.8108 - accuracy: 0.7430 - val_loss: 0.8894 - val_accuracy: 0.7169 - lr: 1.0000e-05\n",
            "Epoch 68/100\n",
            "1259/1259 [==============================] - 27s 21ms/step - loss: 0.8096 - accuracy: 0.7457 - val_loss: 0.8913 - val_accuracy: 0.7154 - lr: 1.0000e-05\n",
            "Epoch 69/100\n",
            "1259/1259 [==============================] - 28s 22ms/step - loss: 0.8017 - accuracy: 0.7456 - val_loss: 0.8857 - val_accuracy: 0.7147 - lr: 1.0000e-05\n",
            "Epoch 70/100\n",
            "1259/1259 [==============================] - 27s 21ms/step - loss: 0.8025 - accuracy: 0.7482 - val_loss: 0.8879 - val_accuracy: 0.7157 - lr: 1.0000e-05\n",
            "Epoch 71/100\n",
            "1259/1259 [==============================] - 29s 23ms/step - loss: 0.8018 - accuracy: 0.7457 - val_loss: 0.8853 - val_accuracy: 0.7159 - lr: 1.0000e-05\n",
            "Epoch 72/100\n",
            "1259/1259 [==============================] - 25s 20ms/step - loss: 0.8020 - accuracy: 0.7477 - val_loss: 0.8920 - val_accuracy: 0.7136 - lr: 1.0000e-05\n",
            "Epoch 73/100\n",
            "1259/1259 [==============================] - 26s 21ms/step - loss: 0.7978 - accuracy: 0.7475 - val_loss: 0.8893 - val_accuracy: 0.7165 - lr: 1.0000e-05\n",
            "Epoch 74/100\n",
            "1259/1259 [==============================] - 25s 19ms/step - loss: 0.7932 - accuracy: 0.7483 - val_loss: 0.8874 - val_accuracy: 0.7168 - lr: 1.0000e-05\n",
            "Epoch 75/100\n",
            "1259/1259 [==============================] - 25s 20ms/step - loss: 0.7963 - accuracy: 0.7485 - val_loss: 0.8859 - val_accuracy: 0.7140 - lr: 1.0000e-05\n",
            "Epoch 76/100\n",
            "1259/1259 [==============================] - 27s 21ms/step - loss: 0.7943 - accuracy: 0.7487 - val_loss: 0.8871 - val_accuracy: 0.7162 - lr: 1.0000e-05\n",
            "Epoch 77/100\n",
            "1259/1259 [==============================] - 29s 23ms/step - loss: 0.7975 - accuracy: 0.7490 - val_loss: 0.8853 - val_accuracy: 0.7178 - lr: 1.0000e-06\n",
            "Epoch 78/100\n",
            "1259/1259 [==============================] - 30s 23ms/step - loss: 0.7898 - accuracy: 0.7508 - val_loss: 0.8846 - val_accuracy: 0.7161 - lr: 1.0000e-06\n",
            "Epoch 79/100\n",
            "1259/1259 [==============================] - 27s 22ms/step - loss: 0.7917 - accuracy: 0.7495 - val_loss: 0.8847 - val_accuracy: 0.7160 - lr: 1.0000e-06\n",
            "Epoch 80/100\n",
            "1259/1259 [==============================] - 26s 21ms/step - loss: 0.7930 - accuracy: 0.7468 - val_loss: 0.8861 - val_accuracy: 0.7156 - lr: 1.0000e-06\n",
            "Epoch 81/100\n",
            "1259/1259 [==============================] - 28s 23ms/step - loss: 0.7925 - accuracy: 0.7484 - val_loss: 0.8842 - val_accuracy: 0.7155 - lr: 1.0000e-06\n",
            "Epoch 82/100\n",
            "1259/1259 [==============================] - 25s 20ms/step - loss: 0.7914 - accuracy: 0.7501 - val_loss: 0.8849 - val_accuracy: 0.7147 - lr: 1.0000e-06\n",
            "Epoch 83/100\n",
            "1259/1259 [==============================] - 25s 20ms/step - loss: 0.7925 - accuracy: 0.7484 - val_loss: 0.8846 - val_accuracy: 0.7155 - lr: 1.0000e-06\n",
            "Epoch 84/100\n",
            "1259/1259 [==============================] - 27s 21ms/step - loss: 0.7887 - accuracy: 0.7511 - val_loss: 0.8844 - val_accuracy: 0.7163 - lr: 1.0000e-06\n",
            "Epoch 85/100\n",
            "1259/1259 [==============================] - 29s 23ms/step - loss: 0.7930 - accuracy: 0.7510 - val_loss: 0.8827 - val_accuracy: 0.7162 - lr: 1.0000e-06\n",
            "Epoch 86/100\n",
            "1259/1259 [==============================] - 26s 21ms/step - loss: 0.7901 - accuracy: 0.7494 - val_loss: 0.8851 - val_accuracy: 0.7155 - lr: 1.0000e-06\n",
            "Epoch 87/100\n",
            "1259/1259 [==============================] - 27s 21ms/step - loss: 0.7907 - accuracy: 0.7512 - val_loss: 0.8851 - val_accuracy: 0.7155 - lr: 1.0000e-06\n",
            "Epoch 88/100\n",
            "1259/1259 [==============================] - 29s 23ms/step - loss: 0.7891 - accuracy: 0.7517 - val_loss: 0.8825 - val_accuracy: 0.7160 - lr: 1.0000e-06\n",
            "Epoch 89/100\n",
            "1259/1259 [==============================] - 26s 21ms/step - loss: 0.7906 - accuracy: 0.7482 - val_loss: 0.8838 - val_accuracy: 0.7159 - lr: 1.0000e-06\n",
            "Epoch 90/100\n",
            "1259/1259 [==============================] - 25s 20ms/step - loss: 0.7878 - accuracy: 0.7530 - val_loss: 0.8833 - val_accuracy: 0.7167 - lr: 1.0000e-06\n",
            "Epoch 91/100\n",
            "1259/1259 [==============================] - 27s 21ms/step - loss: 0.7939 - accuracy: 0.7492 - val_loss: 0.8871 - val_accuracy: 0.7157 - lr: 1.0000e-06\n",
            "Epoch 92/100\n",
            "1259/1259 [==============================] - 28s 23ms/step - loss: 0.7901 - accuracy: 0.7479 - val_loss: 0.8824 - val_accuracy: 0.7170 - lr: 1.0000e-06\n",
            "Epoch 93/100\n",
            "1259/1259 [==============================] - 25s 19ms/step - loss: 0.7921 - accuracy: 0.7505 - val_loss: 0.8852 - val_accuracy: 0.7169 - lr: 1.0000e-06\n",
            "Epoch 94/100\n",
            "1259/1259 [==============================] - 27s 21ms/step - loss: 0.7908 - accuracy: 0.7490 - val_loss: 0.8835 - val_accuracy: 0.7171 - lr: 1.0000e-06\n",
            "Epoch 95/100\n",
            "1259/1259 [==============================] - 25s 20ms/step - loss: 0.7928 - accuracy: 0.7487 - val_loss: 0.8835 - val_accuracy: 0.7163 - lr: 1.0000e-06\n",
            "Epoch 96/100\n",
            "1259/1259 [==============================] - 27s 21ms/step - loss: 0.7950 - accuracy: 0.7481 - val_loss: 0.8835 - val_accuracy: 0.7163 - lr: 1.0000e-06\n",
            "Epoch 97/100\n",
            "1259/1259 [==============================] - 26s 21ms/step - loss: 0.7916 - accuracy: 0.7493 - val_loss: 0.8857 - val_accuracy: 0.7167 - lr: 1.0000e-06\n",
            "Epoch 98/100\n",
            "1259/1259 [==============================] - 25s 20ms/step - loss: 0.7921 - accuracy: 0.7499 - val_loss: 0.8852 - val_accuracy: 0.7165 - lr: 1.0000e-07\n",
            "Epoch 99/100\n",
            "1259/1259 [==============================] - 27s 21ms/step - loss: 0.7877 - accuracy: 0.7488 - val_loss: 0.8831 - val_accuracy: 0.7177 - lr: 1.0000e-07\n",
            "Epoch 100/100\n",
            "1259/1259 [==============================] - 27s 22ms/step - loss: 0.7863 - accuracy: 0.7529 - val_loss: 0.8835 - val_accuracy: 0.7177 - lr: 1.0000e-07\n"
          ]
        }
      ],
      "source": [
        "history = model.fit(X_aug.flow(X_train, Y_train), epochs=100, validation_data=(X_val, Y_val), callbacks=[es, mc, rlr])\n"
      ]
    },
    {
      "cell_type": "markdown",
      "source": [
        "# Save model"
      ],
      "metadata": {
        "id": "XeW7PS1uqnfb"
      }
    },
    {
      "cell_type": "code",
      "execution_count": null,
      "metadata": {
        "colab": {
          "base_uri": "https://localhost:8080/"
        },
        "id": "8lO8ftAbppeH",
        "outputId": "d8413928-26be-45ed-b824-a7fdda480ec0"
      },
      "outputs": [
        {
          "output_type": "stream",
          "name": "stderr",
          "text": [
            "/usr/local/lib/python3.10/dist-packages/keras/src/engine/training.py:3103: UserWarning: You are saving your model as an HDF5 file via `model.save()`. This file format is considered legacy. We recommend using instead the native Keras format, e.g. `model.save('my_model.keras')`.\n",
            "  saving_api.save_model(\n"
          ]
        },
        {
          "output_type": "stream",
          "name": "stdout",
          "text": [
            "315/315 [==============================] - 2s 5ms/step - loss: 0.8835 - accuracy: 0.7177\n",
            "Test loss: 0.883521556854248\n",
            "Test accuracy: 71.77194952964783\n"
          ]
        }
      ],
      "source": [
        "model.save(\"fer_model.h5\")\n",
        "score = model.evaluate(X_val, Y_val, verbose=1)\n",
        "print('Test loss:', score[0])\n",
        "print('Test accuracy:', score[1]*100)"
      ]
    }
  ],
  "metadata": {
    "accelerator": "GPU",
    "colab": {
      "gpuType": "T4",
      "provenance": []
    },
    "kernelspec": {
      "display_name": "Python 3",
      "name": "python3"
    },
    "language_info": {
      "name": "python"
    }
  },
  "nbformat": 4,
  "nbformat_minor": 0
}